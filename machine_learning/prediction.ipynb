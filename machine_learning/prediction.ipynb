{
 "cells": [
  {
   "cell_type": "code",
   "execution_count": 1,
   "metadata": {},
   "outputs": [],
   "source": [
    "import pandas as pd\n",
    "import numpy as np\n",
    "import matplotlib.pyplot as plt\n",
    "plt.style.use('ggplot')\n",
    "import seaborn as sns\n",
    "from sklearn.impute import SimpleImputer\n",
    "import category_encoders as ce  # May need to pip install\n",
    "from sklearn.ensemble import RandomForestClassifier\n",
    "from sklearn.linear_model import LogisticRegression\n",
    "from sklearn.model_selection import train_test_split, cross_val_score, GridSearchCV\n",
    "from sklearn.metrics import classification_report, confusion_matrix\n",
    "from sklearn.metrics import ConfusionMatrixDisplay\n",
    "from imblearn.over_sampling import SMOTE\n",
    "from sklearn.utils import class_weight\n",
    "\n",
    "\n",
    "import warnings\n",
    "warnings.filterwarnings('ignore')"
   ]
  },
  {
   "attachments": {},
   "cell_type": "markdown",
   "metadata": {},
   "source": [
    "## Section 1: Ingesting data and pre processing\n",
    "\n",
    "Steps:\n",
    "\n",
    "- Ingest data\n",
    "- Drop columns with > 50% observations missing\n",
    "- For the remaining missing columns, impute mean for numeric types\n",
    "- For the categorical columns with missing values, add a missing category\n",
    "- One hot encode all categorical variables\n",
    "- Create a list of features and target variable"
   ]
  },
  {
   "cell_type": "code",
   "execution_count": 2,
   "metadata": {},
   "outputs": [
    {
     "data": {
      "text/html": [
       "<div>\n",
       "<style scoped>\n",
       "    .dataframe tbody tr th:only-of-type {\n",
       "        vertical-align: middle;\n",
       "    }\n",
       "\n",
       "    .dataframe tbody tr th {\n",
       "        vertical-align: top;\n",
       "    }\n",
       "\n",
       "    .dataframe thead th {\n",
       "        text-align: right;\n",
       "    }\n",
       "</style>\n",
       "<table border=\"1\" class=\"dataframe\">\n",
       "  <thead>\n",
       "    <tr style=\"text-align: right;\">\n",
       "      <th></th>\n",
       "      <th>CRASH_CRN</th>\n",
       "      <th>DISTRICT</th>\n",
       "      <th>CRASH_COUNTY</th>\n",
       "      <th>MUNICIPALITY</th>\n",
       "      <th>POLICE_AGCY</th>\n",
       "      <th>CRASH_YEAR</th>\n",
       "      <th>CRASH_MONTH</th>\n",
       "      <th>DAY_OF_WEEK</th>\n",
       "      <th>TIME_OF_DAY</th>\n",
       "      <th>HOUR_OF_DAY</th>\n",
       "      <th>...</th>\n",
       "      <th>LANE_COUNT</th>\n",
       "      <th>RDWY_ORIENT</th>\n",
       "      <th>ROAD_OWNER</th>\n",
       "      <th>ROUTE</th>\n",
       "      <th>SPEED_LIMIT</th>\n",
       "      <th>SEGMENT</th>\n",
       "      <th>OFFSET</th>\n",
       "      <th>STREET_NAME</th>\n",
       "      <th>TOT_INJ_COUNT</th>\n",
       "      <th>SCHOOL_BUS_UNIT</th>\n",
       "    </tr>\n",
       "  </thead>\n",
       "  <tbody>\n",
       "    <tr>\n",
       "      <th>0</th>\n",
       "      <td>2004000001</td>\n",
       "      <td>11</td>\n",
       "      <td>2</td>\n",
       "      <td>2454</td>\n",
       "      <td>02454</td>\n",
       "      <td>2004</td>\n",
       "      <td>1</td>\n",
       "      <td>5</td>\n",
       "      <td>257.0</td>\n",
       "      <td>2.0</td>\n",
       "      <td>...</td>\n",
       "      <td>2.0</td>\n",
       "      <td>E</td>\n",
       "      <td>2.0</td>\n",
       "      <td>2032</td>\n",
       "      <td>35.0</td>\n",
       "      <td>10.0</td>\n",
       "      <td>1000.0</td>\n",
       "      <td>LEWIS RUN RD</td>\n",
       "      <td>NaN</td>\n",
       "      <td>NaN</td>\n",
       "    </tr>\n",
       "    <tr>\n",
       "      <th>1</th>\n",
       "      <td>2004000010</td>\n",
       "      <td>11</td>\n",
       "      <td>2</td>\n",
       "      <td>2440</td>\n",
       "      <td>02440</td>\n",
       "      <td>2004</td>\n",
       "      <td>1</td>\n",
       "      <td>5</td>\n",
       "      <td>1027.0</td>\n",
       "      <td>10.0</td>\n",
       "      <td>...</td>\n",
       "      <td>2.0</td>\n",
       "      <td>W</td>\n",
       "      <td>3.0</td>\n",
       "      <td>NaN</td>\n",
       "      <td>35.0</td>\n",
       "      <td>NaN</td>\n",
       "      <td>NaN</td>\n",
       "      <td>COAL VALLEY RD</td>\n",
       "      <td>NaN</td>\n",
       "      <td>NaN</td>\n",
       "    </tr>\n",
       "    <tr>\n",
       "      <th>2</th>\n",
       "      <td>2004000016</td>\n",
       "      <td>11</td>\n",
       "      <td>2</td>\n",
       "      <td>2203</td>\n",
       "      <td>02203</td>\n",
       "      <td>2004</td>\n",
       "      <td>1</td>\n",
       "      <td>5</td>\n",
       "      <td>1839.0</td>\n",
       "      <td>18.0</td>\n",
       "      <td>...</td>\n",
       "      <td>2.0</td>\n",
       "      <td>W</td>\n",
       "      <td>2.0</td>\n",
       "      <td>3082</td>\n",
       "      <td>35.0</td>\n",
       "      <td>NaN</td>\n",
       "      <td>NaN</td>\n",
       "      <td>CLINTON FRANKFORT RD</td>\n",
       "      <td>NaN</td>\n",
       "      <td>NaN</td>\n",
       "    </tr>\n",
       "    <tr>\n",
       "      <th>3</th>\n",
       "      <td>2004000022</td>\n",
       "      <td>11</td>\n",
       "      <td>2</td>\n",
       "      <td>2404</td>\n",
       "      <td>02404</td>\n",
       "      <td>2004</td>\n",
       "      <td>1</td>\n",
       "      <td>6</td>\n",
       "      <td>914.0</td>\n",
       "      <td>9.0</td>\n",
       "      <td>...</td>\n",
       "      <td>2.0</td>\n",
       "      <td>N</td>\n",
       "      <td>4.0</td>\n",
       "      <td>NaN</td>\n",
       "      <td>25.0</td>\n",
       "      <td>NaN</td>\n",
       "      <td>NaN</td>\n",
       "      <td>NORTH BALPH AV</td>\n",
       "      <td>NaN</td>\n",
       "      <td>NaN</td>\n",
       "    </tr>\n",
       "    <tr>\n",
       "      <th>4</th>\n",
       "      <td>2004000030</td>\n",
       "      <td>11</td>\n",
       "      <td>2</td>\n",
       "      <td>2419</td>\n",
       "      <td>02419</td>\n",
       "      <td>2004</td>\n",
       "      <td>1</td>\n",
       "      <td>5</td>\n",
       "      <td>2230.0</td>\n",
       "      <td>22.0</td>\n",
       "      <td>...</td>\n",
       "      <td>2.0</td>\n",
       "      <td>S</td>\n",
       "      <td>4.0</td>\n",
       "      <td>NaN</td>\n",
       "      <td>20.0</td>\n",
       "      <td>NaN</td>\n",
       "      <td>NaN</td>\n",
       "      <td>THORNBERRY DR</td>\n",
       "      <td>NaN</td>\n",
       "      <td>NaN</td>\n",
       "    </tr>\n",
       "  </tbody>\n",
       "</table>\n",
       "<p>5 rows × 190 columns</p>\n",
       "</div>"
      ],
      "text/plain": [
       "    CRASH_CRN  DISTRICT  CRASH_COUNTY  MUNICIPALITY POLICE_AGCY  CRASH_YEAR  \\\n",
       "0  2004000001        11             2          2454       02454        2004   \n",
       "1  2004000010        11             2          2440       02440        2004   \n",
       "2  2004000016        11             2          2203       02203        2004   \n",
       "3  2004000022        11             2          2404       02404        2004   \n",
       "4  2004000030        11             2          2419       02419        2004   \n",
       "\n",
       "   CRASH_MONTH  DAY_OF_WEEK  TIME_OF_DAY  HOUR_OF_DAY  ...  LANE_COUNT  \\\n",
       "0            1            5        257.0          2.0  ...         2.0   \n",
       "1            1            5       1027.0         10.0  ...         2.0   \n",
       "2            1            5       1839.0         18.0  ...         2.0   \n",
       "3            1            6        914.0          9.0  ...         2.0   \n",
       "4            1            5       2230.0         22.0  ...         2.0   \n",
       "\n",
       "   RDWY_ORIENT  ROAD_OWNER  ROUTE  SPEED_LIMIT  SEGMENT  OFFSET  \\\n",
       "0            E         2.0   2032         35.0     10.0  1000.0   \n",
       "1            W         3.0    NaN         35.0      NaN     NaN   \n",
       "2            W         2.0   3082         35.0      NaN     NaN   \n",
       "3            N         4.0    NaN         25.0      NaN     NaN   \n",
       "4            S         4.0    NaN         20.0      NaN     NaN   \n",
       "\n",
       "            STREET_NAME  TOT_INJ_COUNT SCHOOL_BUS_UNIT  \n",
       "0          LEWIS RUN RD            NaN             NaN  \n",
       "1        COAL VALLEY RD            NaN             NaN  \n",
       "2  CLINTON FRANKFORT RD            NaN             NaN  \n",
       "3        NORTH BALPH AV            NaN             NaN  \n",
       "4         THORNBERRY DR            NaN             NaN  \n",
       "\n",
       "[5 rows x 190 columns]"
      ]
     },
     "execution_count": 2,
     "metadata": {},
     "output_type": "execute_result"
    }
   ],
   "source": [
    "# Ingest the data\n",
    "data = '../Data/accident_data.csv'\n",
    "df = pd.read_csv(data)\n",
    "df.head()"
   ]
  },
  {
   "cell_type": "code",
   "execution_count": 3,
   "metadata": {},
   "outputs": [
    {
     "name": "stdout",
     "output_type": "stream",
     "text": [
      "There are 47 variables which have some missing values. The table below shows the variable, it's description and what proportion is missing\n"
     ]
    },
    {
     "data": {
      "text/html": [
       "<div>\n",
       "<style scoped>\n",
       "    .dataframe tbody tr th:only-of-type {\n",
       "        vertical-align: middle;\n",
       "    }\n",
       "\n",
       "    .dataframe tbody tr th {\n",
       "        vertical-align: top;\n",
       "    }\n",
       "\n",
       "    .dataframe thead th {\n",
       "        text-align: right;\n",
       "    }\n",
       "</style>\n",
       "<table border=\"1\" class=\"dataframe\">\n",
       "  <thead>\n",
       "    <tr style=\"text-align: right;\">\n",
       "      <th></th>\n",
       "      <th>column</th>\n",
       "      <th>prop_missing</th>\n",
       "      <th>type</th>\n",
       "      <th>label</th>\n",
       "      <th>description</th>\n",
       "    </tr>\n",
       "  </thead>\n",
       "  <tbody>\n",
       "    <tr>\n",
       "      <th>16</th>\n",
       "      <td>SPEC_JURIS_CD</td>\n",
       "      <td>0.994239</td>\n",
       "      <td>text</td>\n",
       "      <td>Special Jurisdiction Code</td>\n",
       "      <td>Code that defines any special jurisdiction – o...</td>\n",
       "    </tr>\n",
       "    <tr>\n",
       "      <th>15</th>\n",
       "      <td>RDWY_SURF_TYPE_CD</td>\n",
       "      <td>0.994202</td>\n",
       "      <td>text</td>\n",
       "      <td>Roadway Surface Type Code\\t</td>\n",
       "      <td>Code for the Roadway surface type –only for fa...</td>\n",
       "    </tr>\n",
       "    <tr>\n",
       "      <th>23</th>\n",
       "      <td>WZ_CLOSE_DETOUR</td>\n",
       "      <td>0.992037</td>\n",
       "      <td>text</td>\n",
       "      <td>Work Zone Closed Detour\\t</td>\n",
       "      <td>Was traffic rerouted due to work zone?(Y/N); 0...</td>\n",
       "    </tr>\n",
       "    <tr>\n",
       "      <th>28</th>\n",
       "      <td>WZ_OTHER</td>\n",
       "      <td>0.991746</td>\n",
       "      <td>text</td>\n",
       "      <td>Work Zone Special Flag\\t</td>\n",
       "      <td>Was this a special type of work zone? (Y/N) 0 ...</td>\n",
       "    </tr>\n",
       "    <tr>\n",
       "      <th>24</th>\n",
       "      <td>WZ_FLAGGER</td>\n",
       "      <td>0.991645</td>\n",
       "      <td>text</td>\n",
       "      <td>Work Zone Flagman Flag\\t</td>\n",
       "      <td>Did Work zone have a flagman? (Y/N) 0 = No, 1 ...</td>\n",
       "    </tr>\n",
       "    <tr>\n",
       "      <th>27</th>\n",
       "      <td>WZ_MOVING</td>\n",
       "      <td>0.991409</td>\n",
       "      <td>text</td>\n",
       "      <td>Work Zone Moving Flag\\t</td>\n",
       "      <td>Was there moving work in the zone? (Y/N) 0 = N...</td>\n",
       "    </tr>\n",
       "    <tr>\n",
       "      <th>29</th>\n",
       "      <td>WZ_SHLDER_MDN</td>\n",
       "      <td>0.989960</td>\n",
       "      <td>text</td>\n",
       "      <td>Work Zone Shoulder/Median Flag\\t</td>\n",
       "      <td>Was a median/shoulder in the zone?; (Y/N) 0 = ...</td>\n",
       "    </tr>\n",
       "    <tr>\n",
       "      <th>26</th>\n",
       "      <td>WZ_LN_CLOSURE</td>\n",
       "      <td>0.988044</td>\n",
       "      <td>text</td>\n",
       "      <td>Work Zone Lane Closure Flag\\t</td>\n",
       "      <td>Did Work zone have a patrolman? (Y/N) 0 = No, ...</td>\n",
       "    </tr>\n",
       "    <tr>\n",
       "      <th>21</th>\n",
       "      <td>CONS_ZONE_SPD_LIM</td>\n",
       "      <td>0.982874</td>\n",
       "      <td>int4</td>\n",
       "      <td>Construction Zone Speed Limit</td>\n",
       "      <td>Speed limit for the Construction Zone</td>\n",
       "    </tr>\n",
       "    <tr>\n",
       "      <th>25</th>\n",
       "      <td>WZ_LAW_OFFCR_IND</td>\n",
       "      <td>0.982864</td>\n",
       "      <td>text</td>\n",
       "      <td>Work Zone Patrolman Flag\\t</td>\n",
       "      <td>Did Work zone have a patrolman? (Y/N) 0 = No, ...</td>\n",
       "    </tr>\n",
       "    <tr>\n",
       "      <th>22</th>\n",
       "      <td>WORKERS_PRES</td>\n",
       "      <td>0.982864</td>\n",
       "      <td>text</td>\n",
       "      <td>Construction Workers Present</td>\n",
       "      <td>Were construction personnel present? (Y/N); 0 ...</td>\n",
       "    </tr>\n",
       "    <tr>\n",
       "      <th>20</th>\n",
       "      <td>WORK_ZONE_LOC</td>\n",
       "      <td>0.982864</td>\n",
       "      <td>text</td>\n",
       "      <td>The Work Zone Location Code</td>\n",
       "      <td>1 - Before the 1st work zone warning sign\\n2 -...</td>\n",
       "    </tr>\n",
       "    <tr>\n",
       "      <th>19</th>\n",
       "      <td>WORK_ZONE_TYPE</td>\n",
       "      <td>0.982864</td>\n",
       "      <td>text</td>\n",
       "      <td>Work Zone Type Code\\t</td>\n",
       "      <td>Code to define the type of Work Zone\\n1 - Cons...</td>\n",
       "    </tr>\n",
       "    <tr>\n",
       "      <th>46</th>\n",
       "      <td>SCHOOL_BUS_UNIT</td>\n",
       "      <td>0.884805</td>\n",
       "      <td>text</td>\n",
       "      <td>NaN</td>\n",
       "      <td>NaN</td>\n",
       "    </tr>\n",
       "    <tr>\n",
       "      <th>45</th>\n",
       "      <td>TOT_INJ_COUNT</td>\n",
       "      <td>0.728580</td>\n",
       "      <td>int4</td>\n",
       "      <td>Total Injury Count</td>\n",
       "      <td>Total Injuries\\t</td>\n",
       "    </tr>\n",
       "    <tr>\n",
       "      <th>12</th>\n",
       "      <td>EST_HRS_CLOSED</td>\n",
       "      <td>0.600889</td>\n",
       "      <td>int4</td>\n",
       "      <td>Estimated Hours Closed\\t</td>\n",
       "      <td>Estimated hours roadway was closed\\t</td>\n",
       "    </tr>\n",
       "    <tr>\n",
       "      <th>13</th>\n",
       "      <td>LN_CLOSE_DIR</td>\n",
       "      <td>0.545969</td>\n",
       "      <td>text</td>\n",
       "      <td>Lane Closed Direction Code\\t</td>\n",
       "      <td>1 - North\\n2 - South\\n3 - East\\n4 - West\\n5 - ...</td>\n",
       "    </tr>\n",
       "    <tr>\n",
       "      <th>18</th>\n",
       "      <td>TFC_DETOUR_IND</td>\n",
       "      <td>0.533990</td>\n",
       "      <td>text</td>\n",
       "      <td>Traffic Detour Indicator</td>\n",
       "      <td>Was the Traffic Detoured? (Y/N) 0 = No, 1 = Yes</td>\n",
       "    </tr>\n",
       "    <tr>\n",
       "      <th>35</th>\n",
       "      <td>ACCESS_CTRL</td>\n",
       "      <td>0.486345</td>\n",
       "      <td>text</td>\n",
       "      <td>Access Control Code</td>\n",
       "      <td>Access Control Code- only for state roads</td>\n",
       "    </tr>\n",
       "    <tr>\n",
       "      <th>42</th>\n",
       "      <td>SEGMENT</td>\n",
       "      <td>0.410712</td>\n",
       "      <td>text</td>\n",
       "      <td>Segment Number</td>\n",
       "      <td>Segment Number– only for state roads\\t</td>\n",
       "    </tr>\n",
       "  </tbody>\n",
       "</table>\n",
       "</div>"
      ],
      "text/plain": [
       "               column  prop_missing  type                             label  \\\n",
       "16      SPEC_JURIS_CD      0.994239  text         Special Jurisdiction Code   \n",
       "15  RDWY_SURF_TYPE_CD      0.994202  text       Roadway Surface Type Code\\t   \n",
       "23    WZ_CLOSE_DETOUR      0.992037  text         Work Zone Closed Detour\\t   \n",
       "28           WZ_OTHER      0.991746  text          Work Zone Special Flag\\t   \n",
       "24         WZ_FLAGGER      0.991645  text          Work Zone Flagman Flag\\t   \n",
       "27          WZ_MOVING      0.991409  text           Work Zone Moving Flag\\t   \n",
       "29      WZ_SHLDER_MDN      0.989960  text  Work Zone Shoulder/Median Flag\\t   \n",
       "26      WZ_LN_CLOSURE      0.988044  text     Work Zone Lane Closure Flag\\t   \n",
       "21  CONS_ZONE_SPD_LIM      0.982874  int4     Construction Zone Speed Limit   \n",
       "25   WZ_LAW_OFFCR_IND      0.982864  text        Work Zone Patrolman Flag\\t   \n",
       "22       WORKERS_PRES      0.982864  text      Construction Workers Present   \n",
       "20      WORK_ZONE_LOC      0.982864  text       The Work Zone Location Code   \n",
       "19     WORK_ZONE_TYPE      0.982864  text             Work Zone Type Code\\t   \n",
       "46    SCHOOL_BUS_UNIT      0.884805  text                               NaN   \n",
       "45      TOT_INJ_COUNT      0.728580  int4                Total Injury Count   \n",
       "12     EST_HRS_CLOSED      0.600889  int4          Estimated Hours Closed\\t   \n",
       "13       LN_CLOSE_DIR      0.545969  text      Lane Closed Direction Code\\t   \n",
       "18     TFC_DETOUR_IND      0.533990  text          Traffic Detour Indicator   \n",
       "35        ACCESS_CTRL      0.486345  text               Access Control Code   \n",
       "42            SEGMENT      0.410712  text                    Segment Number   \n",
       "\n",
       "                                          description  \n",
       "16  Code that defines any special jurisdiction – o...  \n",
       "15  Code for the Roadway surface type –only for fa...  \n",
       "23  Was traffic rerouted due to work zone?(Y/N); 0...  \n",
       "28  Was this a special type of work zone? (Y/N) 0 ...  \n",
       "24  Did Work zone have a flagman? (Y/N) 0 = No, 1 ...  \n",
       "27  Was there moving work in the zone? (Y/N) 0 = N...  \n",
       "29  Was a median/shoulder in the zone?; (Y/N) 0 = ...  \n",
       "26  Did Work zone have a patrolman? (Y/N) 0 = No, ...  \n",
       "21              Speed limit for the Construction Zone  \n",
       "25  Did Work zone have a patrolman? (Y/N) 0 = No, ...  \n",
       "22  Were construction personnel present? (Y/N); 0 ...  \n",
       "20  1 - Before the 1st work zone warning sign\\n2 -...  \n",
       "19  Code to define the type of Work Zone\\n1 - Cons...  \n",
       "46                                                NaN  \n",
       "45                                   Total Injuries\\t  \n",
       "12               Estimated hours roadway was closed\\t  \n",
       "13  1 - North\\n2 - South\\n3 - East\\n4 - West\\n5 - ...  \n",
       "18    Was the Traffic Detoured? (Y/N) 0 = No, 1 = Yes  \n",
       "35          Access Control Code- only for state roads  \n",
       "42             Segment Number– only for state roads\\t  "
      ]
     },
     "execution_count": 3,
     "metadata": {},
     "output_type": "execute_result"
    }
   ],
   "source": [
    "# What variables have missing values, how much and is that variable relevant\n",
    "\n",
    "# Data dictionary\n",
    "data_dict = '../Data/accident_data_dict.csv'\n",
    "data_dict = pd.read_csv(data_dict)\n",
    "\n",
    "# Missing columns in data\n",
    "prop_missing = df.isna().mean()\n",
    "\n",
    "# create a new dataframe with the 'column' and 'prop_missing' variables\n",
    "missing_df = pd.DataFrame({'column': prop_missing.index, 'prop_missing': prop_missing.values})\n",
    "missing_df = missing_df[missing_df.prop_missing > 0]\n",
    "\n",
    "print(f\"There are {len(missing_df)} variables which have some missing values. The table below shows the variable, it's description and what proportion is missing\")\n",
    "\n",
    "# Display table\n",
    "missing_df = pd.merge(missing_df, data_dict, on='column', how='inner')\n",
    "missing_df.sort_values(by='prop_missing', ascending=False).head(20)"
   ]
  },
  {
   "cell_type": "code",
   "execution_count": 4,
   "metadata": {},
   "outputs": [],
   "source": [
    "# Dealing with missing values\n",
    "\n",
    "# Logic: If a variable has more than 50% of observations missing, drop that variable\n",
    "# Logic: Else, if it's an int variable, impute mean. If it's a text variable, create a missing category\n",
    "\n",
    "# Drop vars\n",
    "clean_df = df.copy()\n",
    "vars_to_drop = list(missing_df[missing_df.prop_missing>=0.5]['column'])\n",
    "clean_df = df.drop(columns=vars_to_drop, axis=1)\n",
    "\n",
    "# Impute mean for missing values in numerical columns\n",
    "numerical_cols = clean_df.select_dtypes(include=['int', 'float']).columns\n",
    "imputer = SimpleImputer(strategy='mean')\n",
    "clean_df[numerical_cols] = imputer.fit_transform(clean_df[numerical_cols])\n",
    "\n",
    "# Add a missing category and make text columns categorical\n",
    "# For this we have to refer to the data_dict to see which columns are of type text\n",
    "text_cols = clean_df.select_dtypes(include=['object']).columns\n",
    "var_types = data_dict.set_index('column')['type'].to_dict()\n",
    "text_vars = [var for var in var_types.keys() if var_types[var] == 'text' \n",
    "             and var not in vars_to_drop \n",
    "             and 'CRN' not in var # These are unique identifiers\n",
    "             and 'TUDE' not in var # Don't want to encode lat longs  \n",
    "             and 'STREET_NAME' not in var] # Don't want to encode street name as too many values  \n",
    "\n",
    "clean_df[text_vars] = clean_df[text_vars].fillna('missing').astype('category')\n"
   ]
  },
  {
   "cell_type": "code",
   "execution_count": 5,
   "metadata": {},
   "outputs": [],
   "source": [
    "# Encoding categorical variables (takes some time to run, ~ 2 mins)\n",
    "cat_vars = text_vars\n",
    "# Initialize the OneHotEncoder from category_encoders\n",
    "one_hot_enc = ce.OneHotEncoder(cols=cat_vars, use_cat_names=True)\n",
    "\n",
    "# Fit the encoder on your data and transform the data\n",
    "cat_encoded = one_hot_enc.fit_transform(clean_df[cat_vars])\n",
    "df_encoded = pd.concat([clean_df.drop(cat_vars, axis=1), cat_encoded], axis=1)"
   ]
  },
  {
   "cell_type": "code",
   "execution_count": 6,
   "metadata": {},
   "outputs": [],
   "source": [
    "# Store feature and target vars to be used in the next section\n",
    "feature_vars = [var for var in df_encoded.columns if 'CRN' not in var\n",
    "                and 'TUDE' not in var\n",
    "                and 'STREET_NAME' not in var\n",
    "                and 'FATAL_OR_MAJ_INJ' not in var\n",
    "                and 'DEC_LAT' not in var and 'DEC_LONG' not in var\n",
    "                and 'INJ' not in var and 'FATAL' not in var\n",
    "                and 'COUNT' not in var and 'MAX_SEVERITY_LEVEL' not in var\n",
    "                and 'PROPERTY_DAMAGE_ONLY' not in var] \n",
    "# The last 5 are vars which one won't observe during prediction time and hence cause leakage\n",
    "\n",
    "target_var = 'FATAL_OR_MAJ_INJ'"
   ]
  },
  {
   "attachments": {},
   "cell_type": "markdown",
   "metadata": {},
   "source": [
    "## Section 2: Predictive modelling"
   ]
  },
  {
   "cell_type": "code",
   "execution_count": 7,
   "metadata": {},
   "outputs": [],
   "source": [
    "# split the data into train and test sets\n",
    "X = df_encoded[feature_vars]\n",
    "y = df_encoded[target_var]\n",
    "X_train, X_test, y_train, y_test = train_test_split(X, y, test_size=0.3, random_state=42)"
   ]
  },
  {
   "cell_type": "code",
   "execution_count": 8,
   "metadata": {},
   "outputs": [
    {
     "name": "stdout",
     "output_type": "stream",
     "text": [
      "Classification report for random forest classifier:\n",
      "              precision    recall  f1-score   support\n",
      "\n",
      "         0.0       0.97      1.00      0.99     63253\n",
      "         1.0       0.67      0.00      0.00      1735\n",
      "\n",
      "    accuracy                           0.97     64988\n",
      "   macro avg       0.82      0.50      0.49     64988\n",
      "weighted avg       0.97      0.97      0.96     64988\n",
      "\n"
     ]
    },
    {
     "data": {
      "image/png": "[encoded data removed]",
      "text/plain": [
       "<Figure size 432x288 with 2 Axes>"
      ]
     },
     "metadata": {},
     "output_type": "display_data"
    }
   ],
   "source": [
    "# Fit a Random Forest Model\n",
    "rf = RandomForestClassifier(n_estimators=100,\n",
    "                            n_jobs=-1)\n",
    "\n",
    "rf.fit(X_train, y_train)\n",
    "y_pred_rf = rf.predict(X_test)\n",
    "\n",
    "# Generate a classification report\n",
    "print(\"Classification report for random forest classifier:\")\n",
    "print(classification_report(y_test, y_pred_rf))\n",
    "\n",
    "cm = confusion_matrix(y_test, y_pred_rf)\n",
    "disp = ConfusionMatrixDisplay(cm, display_labels=rf.classes_)\n",
    "disp.plot()\n",
    "plt.show()"
   ]
  },
  {
   "cell_type": "code",
   "execution_count": 9,
   "metadata": {},
   "outputs": [
    {
     "data": {
      "image/png": "[encoded data removed]",
      "text/plain": [
       "<Figure size 432x288 with 1 Axes>"
      ]
     },
     "metadata": {},
     "output_type": "display_data"
    }
   ],
   "source": [
    "feat_importances_rfc = pd.Series(rf.feature_importances_, index=X.columns)\n",
    "feat_importances_rfc.nlargest(10).plot(kind='barh')\n",
    "plt.show()\n"
   ]
  },
  {
   "attachments": {},
   "cell_type": "markdown",
   "metadata": {},
   "source": [
    "The RF model is not predicting any observation as 1 because of massive class imbalance. So we need to fix that"
   ]
  },
  {
   "attachments": {},
   "cell_type": "markdown",
   "metadata": {},
   "source": [
    "### RF with balanced class"
   ]
  },
  {
   "cell_type": "code",
   "execution_count": 10,
   "metadata": {},
   "outputs": [],
   "source": [
    "# Memory intensive\n",
    "# # Fixing class imbalance\n",
    "# smote = SMOTE()\n",
    "# X = df_encoded[feature_vars]\n",
    "# y = df_encoded[target_var]\n",
    "# X_resampled, y_resampled = smote.fit_resample(X, y)\n",
    "# X_train, X_test, y_train, y_test = train_test_split(X_resampled, y_resampled, test_size=0.3, random_state=42)\n"
   ]
  },
  {
   "cell_type": "code",
   "execution_count": 11,
   "metadata": {},
   "outputs": [
    {
     "name": "stdout",
     "output_type": "stream",
     "text": [
      "Classification report for random forest classifier:\n",
      "              precision    recall  f1-score   support\n",
      "\n",
      "         0.0       0.97      1.00      0.99     63253\n",
      "         1.0       0.67      0.00      0.00      1735\n",
      "\n",
      "    accuracy                           0.97     64988\n",
      "   macro avg       0.82      0.50      0.49     64988\n",
      "weighted avg       0.97      0.97      0.96     64988\n",
      "\n"
     ]
    },
    {
     "data": {
      "image/png": "[encoded data removed]",
      "text/plain": [
       "<Figure size 432x288 with 2 Axes>"
      ]
     },
     "metadata": {},
     "output_type": "display_data"
    }
   ],
   "source": [
    "# Fit a Random Forest Model after reweighting\n",
    "rf = RandomForestClassifier(n_estimators=300,\n",
    "                            n_jobs=-1,\n",
    "                            class_weight='balanced')\n",
    "\n",
    "rf.fit(X_train, y_train)\n",
    "y_pred_rf = rf.predict(X_test)\n",
    "\n",
    "# Generate a classification report\n",
    "print(\"Classification report for random forest classifier:\")\n",
    "print(classification_report(y_test, y_pred_rf))\n",
    "\n",
    "cm = confusion_matrix(y_test, y_pred_rf)\n",
    "disp = ConfusionMatrixDisplay(cm, display_labels=rf.classes_)\n",
    "disp.plot()\n",
    "plt.show()"
   ]
  },
  {
   "cell_type": "code",
   "execution_count": 12,
   "metadata": {},
   "outputs": [
    {
     "data": {
      "image/png": "[encoded data removed]",
      "text/plain": [
       "<Figure size 432x288 with 1 Axes>"
      ]
     },
     "metadata": {},
     "output_type": "display_data"
    }
   ],
   "source": [
    "feat_importances_rfc = pd.Series(rf.feature_importances_, index=X.columns)\n",
    "feat_importances_rfc.nlargest(10).plot(kind='barh')\n",
    "plt.show()\n"
   ]
  },
  {
   "attachments": {},
   "cell_type": "markdown",
   "metadata": {},
   "source": [
    "Better, but pretty bad recall on class 1. Let's try a model where we randomly drop some class 0 observations to restore balance"
   ]
  },
  {
   "cell_type": "code",
   "execution_count": 13,
   "metadata": {},
   "outputs": [],
   "source": [
    "# Specify the proportion of target=0 observations to drop\n",
    "prop_to_drop = 0.9 \n",
    "\n",
    "# Identify the indices of the target=0 observations\n",
    "class_0_indices = df_encoded.index[df_encoded[target_var] == 0]\n",
    "\n",
    "# Randomly select a subset of target=0 indices to drop\n",
    "num_to_drop = int(len(class_0_indices) * prop_to_drop)\n",
    "drop_indices = np.random.choice(class_0_indices, num_to_drop, replace=False)\n",
    "\n",
    "# Drop the selected indices from the DataFrame\n",
    "df_encoded_trimmed = df_encoded.drop(drop_indices)\n",
    "\n",
    "X = df_encoded_trimmed[feature_vars]\n",
    "y = df_encoded_trimmed[target_var]\n",
    "X_train, X_test, y_train, y_test = train_test_split(X, y, test_size=0.3, random_state=42)\n"
   ]
  },
  {
   "cell_type": "code",
   "execution_count": 14,
   "metadata": {},
   "outputs": [
    {
     "name": "stdout",
     "output_type": "stream",
     "text": [
      "Classification report for random forest classifier:\n",
      "              precision    recall  f1-score   support\n",
      "\n",
      "         0.0       0.83      0.98      0.90      6305\n",
      "         1.0       0.82      0.31      0.44      1766\n",
      "\n",
      "    accuracy                           0.83      8071\n",
      "   macro avg       0.83      0.64      0.67      8071\n",
      "weighted avg       0.83      0.83      0.80      8071\n",
      "\n"
     ]
    },
    {
     "data": {
      "image/png": "[encoded data removed]",
      "text/plain": [
       "<Figure size 432x288 with 2 Axes>"
      ]
     },
     "metadata": {},
     "output_type": "display_data"
    }
   ],
   "source": [
    "# Fit a Random Forest Model after reweighting\n",
    "rf = RandomForestClassifier(n_estimators=500,\n",
    "                            n_jobs=-1)\n",
    "\n",
    "rf.fit(X_train, y_train)\n",
    "y_pred_rf = rf.predict(X_test)\n",
    "\n",
    "# Generate a classification report\n",
    "print(\"Classification report for random forest classifier:\")\n",
    "print(classification_report(y_test, y_pred_rf))\n",
    "\n",
    "cm = confusion_matrix(y_test, y_pred_rf)\n",
    "disp = ConfusionMatrixDisplay(cm, display_labels=rf.classes_)\n",
    "disp.plot()\n",
    "plt.show()"
   ]
  },
  {
   "cell_type": "code",
   "execution_count": 15,
   "metadata": {},
   "outputs": [
    {
     "data": {
      "image/png": "[encoded data removed]",
      "text/plain": [
       "<Figure size 432x288 with 1 Axes>"
      ]
     },
     "metadata": {},
     "output_type": "display_data"
    }
   ],
   "source": [
    "feat_importances_rfc = pd.Series(rf.feature_importances_, index=X.columns)\n",
    "feat_importances_rfc.nlargest(10).plot(kind='barh')\n",
    "plt.show()"
   ]
  },
  {
   "attachments": {},
   "cell_type": "markdown",
   "metadata": {},
   "source": [
    "Looks like this performs the best (at the cost of some potential bias). The precision of the positive class is quite high, which is good. "
   ]
  },
  {
   "attachments": {},
   "cell_type": "markdown",
   "metadata": {},
   "source": [
    "### Logistic regression of subsampled dataset"
   ]
  },
  {
   "cell_type": "code",
   "execution_count": 16,
   "metadata": {},
   "outputs": [
    {
     "name": "stdout",
     "output_type": "stream",
     "text": [
      "Classification report for Logistic Regression Classifier:\n",
      "              precision    recall  f1-score   support\n",
      "\n",
      "         0.0       0.85      0.95      0.90      6305\n",
      "         1.0       0.68      0.41      0.51      1766\n",
      "\n",
      "    accuracy                           0.83      8071\n",
      "   macro avg       0.77      0.68      0.70      8071\n",
      "weighted avg       0.81      0.83      0.81      8071\n",
      "\n"
     ]
    },
    {
     "data": {
      "image/png": "[encoded data removed]",
      "text/plain": [
       "<Figure size 432x288 with 2 Axes>"
      ]
     },
     "metadata": {},
     "output_type": "display_data"
    }
   ],
   "source": [
    "# Trying the same as above but for LR\n",
    "# Fit a Random Forest Model after reweighting\n",
    "lr = LogisticRegression(C=100, penalty='l2')\n",
    "\n",
    "lr.fit(X_train, y_train)\n",
    "y_pred_lr = lr.predict(X_test)\n",
    "\n",
    "# Generate a classification report\n",
    "print(\"Classification report for Logistic Regression Classifier:\")\n",
    "print(classification_report(y_test, y_pred_lr))\n",
    "\n",
    "cm = confusion_matrix(y_test, y_pred_lr)\n",
    "disp = ConfusionMatrixDisplay(cm, display_labels=lr.classes_)\n",
    "disp.plot()\n",
    "plt.show()"
   ]
  },
  {
   "cell_type": "code",
   "execution_count": 17,
   "metadata": {},
   "outputs": [
    {
     "data": {
      "image/png": "[encoded data removed]",
      "text/plain": [
       "<Figure size 576x432 with 1 Axes>"
      ]
     },
     "metadata": {},
     "output_type": "display_data"
    }
   ],
   "source": [
    "coefficients = lr.coef_[0]\n",
    "feature_names = X_train.columns\n",
    "\n",
    "# Calculate the absolute value of the coefficients\n",
    "abs_coefs = np.abs(coefficients)\n",
    "\n",
    "# Sort the coefficients in descending order\n",
    "sorted_idx = abs_coefs.argsort()[::-1]\n",
    "\n",
    "# Plot the top 10 coefficients\n",
    "top_n = 10\n",
    "plt.figure(figsize=(8, 6))\n",
    "plt.bar(range(top_n), abs_coefs[sorted_idx][:top_n])\n",
    "plt.xticks(range(top_n), feature_names[sorted_idx][:top_n], rotation=90)\n",
    "plt.xlabel(\"Feature\")\n",
    "plt.ylabel(\"Coefficient Magnitude\")\n",
    "plt.title(\"Top 10 Logistic Regression Coefficients\")\n",
    "plt.show()\n"
   ]
  },
  {
   "attachments": {},
   "cell_type": "markdown",
   "metadata": {},
   "source": [
    "Pretty similar important variables"
   ]
  },
  {
   "attachments": {},
   "cell_type": "markdown",
   "metadata": {},
   "source": [
    "### Applying model on dimensionality reduced dataset"
   ]
  },
  {
   "cell_type": "code",
   "execution_count": 18,
   "metadata": {},
   "outputs": [],
   "source": [
    "X = df_encoded_trimmed[feature_vars]\n",
    "y = df_encoded_trimmed[target_var]\n",
    "\n",
    "from sklearn.decomposition import PCA\n",
    "\n",
    "# Instantiate PCA with n_components=10\n",
    "pca = PCA(n_components=20)\n",
    "\n",
    "# Fit PCA on the features\n",
    "X_pca = pca.fit_transform(X)\n",
    "\n",
    "# Split the dataset into training and testing sets\n",
    "X_train, X_test, y_train, y_test = train_test_split(X_pca, y, test_size=0.3, random_state=42)\n"
   ]
  },
  {
   "cell_type": "code",
   "execution_count": 19,
   "metadata": {},
   "outputs": [
    {
     "name": "stdout",
     "output_type": "stream",
     "text": [
      "Classification report for random forest classifier:\n",
      "              precision    recall  f1-score   support\n",
      "\n",
      "         0.0       0.83      0.96      0.89      6305\n",
      "         1.0       0.65      0.29      0.40      1766\n",
      "\n",
      "    accuracy                           0.81      8071\n",
      "   macro avg       0.74      0.62      0.64      8071\n",
      "weighted avg       0.79      0.81      0.78      8071\n",
      "\n"
     ]
    },
    {
     "data": {
      "image/png": "[encoded data removed]",
      "text/plain": [
       "<Figure size 432x288 with 2 Axes>"
      ]
     },
     "metadata": {},
     "output_type": "display_data"
    }
   ],
   "source": [
    "rf = RandomForestClassifier(n_estimators=500,\n",
    "                            n_jobs=-1)\n",
    "\n",
    "rf.fit(X_train, y_train)\n",
    "y_pred_rf = rf.predict(X_test)\n",
    "\n",
    "# Generate a classification report\n",
    "print(\"Classification report for random forest classifier:\")\n",
    "print(classification_report(y_test, y_pred_rf))\n",
    "\n",
    "cm = confusion_matrix(y_test, y_pred_rf)\n",
    "disp = ConfusionMatrixDisplay(cm, display_labels=rf.classes_)\n",
    "disp.plot()\n",
    "plt.show()"
   ]
  },
  {
   "attachments": {},
   "cell_type": "markdown",
   "metadata": {},
   "source": [
    "Doesn't seem like this does much better"
   ]
  },
  {
   "cell_type": "code",
   "execution_count": 20,
   "metadata": {},
   "outputs": [
    {
     "name": "stdout",
     "output_type": "stream",
     "text": [
      "Classification report for Logistic Regression Classifier:\n",
      "              precision    recall  f1-score   support\n",
      "\n",
      "         0.0       0.82      0.96      0.88      6305\n",
      "         1.0       0.63      0.25      0.36      1766\n",
      "\n",
      "    accuracy                           0.80      8071\n",
      "   macro avg       0.73      0.61      0.62      8071\n",
      "weighted avg       0.78      0.80      0.77      8071\n",
      "\n"
     ]
    },
    {
     "data": {
      "image/png": "[encoded data removed]",
      "text/plain": [
       "<Figure size 432x288 with 2 Axes>"
      ]
     },
     "metadata": {},
     "output_type": "display_data"
    }
   ],
   "source": [
    "# Trying the same as above but for LR\n",
    "# Fit a Random Forest Model after reweighting\n",
    "lr = LogisticRegression(C=100, penalty='l2')\n",
    "\n",
    "lr.fit(X_train, y_train)\n",
    "y_pred_lr = lr.predict(X_test)\n",
    "\n",
    "# Generate a classification report\n",
    "print(\"Classification report for Logistic Regression Classifier:\")\n",
    "print(classification_report(y_test, y_pred_lr))\n",
    "\n",
    "cm = confusion_matrix(y_test, y_pred_lr)\n",
    "disp = ConfusionMatrixDisplay(cm, display_labels=lr.classes_)\n",
    "disp.plot()\n",
    "plt.show()"
   ]
  }
 ],
 "metadata": {
  "kernelspec": {
   "display_name": "uda_env",
   "language": "python",
   "name": "python3"
  },
  "language_info": {
   "codemirror_mode": {
    "name": "ipython",
    "version": 3
   },
   "file_extension": ".py",
   "mimetype": "text/x-python",
   "name": "python",
   "nbconvert_exporter": "python",
   "pygments_lexer": "ipython3",
   "version": "3.8.2"
  },
  "orig_nbformat": 4
 },
 "nbformat": 4,
 "nbformat_minor": 2
}
